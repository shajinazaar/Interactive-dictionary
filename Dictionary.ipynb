{
 "cells": [
  {
   "cell_type": "code",
   "execution_count": 21,
   "metadata": {},
   "outputs": [
    {
     "name": "stdout",
     "output_type": "stream",
     "text": [
      "Enter a word: structure\n",
      "The whole of the different elements of a company organ.\n",
      "Something built up of distinct parts.\n",
      "To give structure to.\n"
     ]
    }
   ],
   "source": [
    "import json\n",
    "from difflib import get_close_matches\n",
    "\n",
    "data = json.load(open(\"data.json\"))\n",
    "\n",
    "def translate(word):\n",
    "    word =word.lower()\n",
    "    if word in data:\n",
    "        return data[word]\n",
    "    elif len(get_close_matches(word,data.keys()))>0:\n",
    "        yn =input(\"Did you mean %s instead Enter Y IF Yes or N IF No: \" % get_close_matches(word,data.keys())[0])\n",
    "        if yn==\"Y\":\n",
    "            return get_close_matches(word,data.keys())[0]\n",
    "        elif yn==\"N\":\n",
    "            return \"The word does not exist please double check it\"\n",
    "        else:\n",
    "            return \"We didn't understand your entry\"\n",
    "    else:\n",
    "        return \"The word data doesn't exit in the dictionary\"\n",
    "\n",
    "text = input(\"Enter a word: \")\n",
    "    \n",
    "    \n",
    "output=translate(text)\n",
    "\n",
    "if type(output) ==list:\n",
    "    for item in output:\n",
    "        print(item)\n",
    "else:\n",
    "    print(output)\n",
    "\n"
   ]
  },
  {
   "cell_type": "code",
   "execution_count": null,
   "metadata": {},
   "outputs": [],
   "source": []
  },
  {
   "cell_type": "code",
   "execution_count": null,
   "metadata": {},
   "outputs": [],
   "source": []
  }
 ],
 "metadata": {
  "kernelspec": {
   "display_name": "Python 3",
   "language": "python",
   "name": "python3"
  },
  "language_info": {
   "codemirror_mode": {
    "name": "ipython",
    "version": 3
   },
   "file_extension": ".py",
   "mimetype": "text/x-python",
   "name": "python",
   "nbconvert_exporter": "python",
   "pygments_lexer": "ipython3",
   "version": "3.7.0"
  }
 },
 "nbformat": 4,
 "nbformat_minor": 2
}
